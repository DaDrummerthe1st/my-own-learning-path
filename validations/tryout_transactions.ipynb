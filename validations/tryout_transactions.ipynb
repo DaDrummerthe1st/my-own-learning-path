{
 "cells": [
  {
   "cell_type": "markdown",
   "id": "2e9d0fa1",
   "metadata": {},
   "source": [
    "# Find and clean faults in transactions.csv"
   ]
  },
  {
   "cell_type": "code",
   "execution_count": 19,
   "id": "4c323818",
   "metadata": {},
   "outputs": [
    {
     "name": "stderr",
     "output_type": "stream",
     "text": [
      "/tmp/ipykernel_41460/1415951825.py:5: DtypeWarning: Columns (2) have mixed types. Specify dtype option on import or set low_memory=False.\n",
      "  df_transactions = pd.read_csv(file)\n"
     ]
    },
    {
     "data": {
      "application/vnd.microsoft.datawrangler.viewer.v0+json": {
       "columns": [
        {
         "name": "index",
         "rawType": "int64",
         "type": "integer"
        },
        {
         "name": "transaction_id",
         "rawType": "object",
         "type": "string"
        },
        {
         "name": "timestamp",
         "rawType": "object",
         "type": "string"
        },
        {
         "name": "amount",
         "rawType": "object",
         "type": "string"
        },
        {
         "name": "currency",
         "rawType": "object",
         "type": "string"
        },
        {
         "name": "sender_account",
         "rawType": "object",
         "type": "string"
        },
        {
         "name": "receiver_account",
         "rawType": "object",
         "type": "string"
        },
        {
         "name": "sender_country",
         "rawType": "object",
         "type": "string"
        },
        {
         "name": "sender_municipality",
         "rawType": "object",
         "type": "string"
        },
        {
         "name": "receiver_country",
         "rawType": "object",
         "type": "string"
        },
        {
         "name": "receiver_municipality",
         "rawType": "object",
         "type": "string"
        },
        {
         "name": "transaction_type",
         "rawType": "object",
         "type": "string"
        },
        {
         "name": "notes",
         "rawType": "object",
         "type": "unknown"
        }
       ],
       "ref": "3f06b073-6b26-4e5e-bb7b-2e26938eb43e",
       "rows": [
        [
         "0",
         "f2f3b0fc-b7d7-4d85-b682-cbf07ef77c1a",
         "2025-03-06 12:04:00",
         "7746.03",
         "SEK",
         "SE8902EWFT80524424320740",
         "SE8902ZUIH32054423564254",
         "Sweden",
         "Karlskrona",
         "Sweden",
         "Eskilstuna",
         "outgoing",
         "Online purchase"
        ],
        [
         "1",
         "feccbd1e-7752-4452-a44a-901510252561",
         "2025-03-31 01:37:00",
         "45193.04",
         "SEK",
         "SE8902GTSI58472323675409",
         "SE8902ERNA19462716907689",
         "Sweden",
         "Piteå",
         "Sweden",
         "Norrköping",
         "outgoing",
         "Tax refund"
        ],
        [
         "2",
         "bc6a480c-e2e1-434d-830c-1cda3f913038",
         "2025-04-29 22:58:00",
         "33029.71",
         "SEK",
         "SE8902SEZT63377163386089",
         "SE8902LOLQ30361773270969",
         "Sweden",
         "Östersund",
         "Sweden",
         "Karlskoga",
         "incoming",
         "Tax refund"
        ],
        [
         "3",
         "b832aa2c-77f3-4c4f-9697-9776b8d74abb",
         "2025-02-27 14:52:00",
         "35994 .61",
         "SEK",
         "SE8902MGEE43594824630478",
         "SE8902XIVG18316797897983",
         "Sweden",
         "Karlstad",
         "Sweden",
         "Helsingborg",
         "incoming",
         null
        ],
        [
         "4",
         "0d32c6ef-508e-4f5d-bc64-341a0a9f498d",
         "2025-01-03 22:29:00",
         "32229.73",
         "SEK",
         "SE8902SZWO66860675966705",
         "SE8902SUUS97732018069804",
         "Sweden",
         "Skellefteå",
         "Sweden",
         "Falun",
         "outgoing",
         "Tax refund"
        ]
       ],
       "shape": {
        "columns": 12,
        "rows": 5
       }
      },
      "text/html": [
       "<div>\n",
       "<style scoped>\n",
       "    .dataframe tbody tr th:only-of-type {\n",
       "        vertical-align: middle;\n",
       "    }\n",
       "\n",
       "    .dataframe tbody tr th {\n",
       "        vertical-align: top;\n",
       "    }\n",
       "\n",
       "    .dataframe thead th {\n",
       "        text-align: right;\n",
       "    }\n",
       "</style>\n",
       "<table border=\"1\" class=\"dataframe\">\n",
       "  <thead>\n",
       "    <tr style=\"text-align: right;\">\n",
       "      <th></th>\n",
       "      <th>transaction_id</th>\n",
       "      <th>timestamp</th>\n",
       "      <th>amount</th>\n",
       "      <th>currency</th>\n",
       "      <th>sender_account</th>\n",
       "      <th>receiver_account</th>\n",
       "      <th>sender_country</th>\n",
       "      <th>sender_municipality</th>\n",
       "      <th>receiver_country</th>\n",
       "      <th>receiver_municipality</th>\n",
       "      <th>transaction_type</th>\n",
       "      <th>notes</th>\n",
       "    </tr>\n",
       "  </thead>\n",
       "  <tbody>\n",
       "    <tr>\n",
       "      <th>0</th>\n",
       "      <td>f2f3b0fc-b7d7-4d85-b682-cbf07ef77c1a</td>\n",
       "      <td>2025-03-06 12:04:00</td>\n",
       "      <td>7746.03</td>\n",
       "      <td>SEK</td>\n",
       "      <td>SE8902EWFT80524424320740</td>\n",
       "      <td>SE8902ZUIH32054423564254</td>\n",
       "      <td>Sweden</td>\n",
       "      <td>Karlskrona</td>\n",
       "      <td>Sweden</td>\n",
       "      <td>Eskilstuna</td>\n",
       "      <td>outgoing</td>\n",
       "      <td>Online purchase</td>\n",
       "    </tr>\n",
       "    <tr>\n",
       "      <th>1</th>\n",
       "      <td>feccbd1e-7752-4452-a44a-901510252561</td>\n",
       "      <td>2025-03-31 01:37:00</td>\n",
       "      <td>45193.04</td>\n",
       "      <td>SEK</td>\n",
       "      <td>SE8902GTSI58472323675409</td>\n",
       "      <td>SE8902ERNA19462716907689</td>\n",
       "      <td>Sweden</td>\n",
       "      <td>Piteå</td>\n",
       "      <td>Sweden</td>\n",
       "      <td>Norrköping</td>\n",
       "      <td>outgoing</td>\n",
       "      <td>Tax refund</td>\n",
       "    </tr>\n",
       "    <tr>\n",
       "      <th>2</th>\n",
       "      <td>bc6a480c-e2e1-434d-830c-1cda3f913038</td>\n",
       "      <td>2025-04-29 22:58:00</td>\n",
       "      <td>33029.71</td>\n",
       "      <td>SEK</td>\n",
       "      <td>SE8902SEZT63377163386089</td>\n",
       "      <td>SE8902LOLQ30361773270969</td>\n",
       "      <td>Sweden</td>\n",
       "      <td>Östersund</td>\n",
       "      <td>Sweden</td>\n",
       "      <td>Karlskoga</td>\n",
       "      <td>incoming</td>\n",
       "      <td>Tax refund</td>\n",
       "    </tr>\n",
       "    <tr>\n",
       "      <th>3</th>\n",
       "      <td>b832aa2c-77f3-4c4f-9697-9776b8d74abb</td>\n",
       "      <td>2025-02-27 14:52:00</td>\n",
       "      <td>35994 .61</td>\n",
       "      <td>SEK</td>\n",
       "      <td>SE8902MGEE43594824630478</td>\n",
       "      <td>SE8902XIVG18316797897983</td>\n",
       "      <td>Sweden</td>\n",
       "      <td>Karlstad</td>\n",
       "      <td>Sweden</td>\n",
       "      <td>Helsingborg</td>\n",
       "      <td>incoming</td>\n",
       "      <td>NaN</td>\n",
       "    </tr>\n",
       "    <tr>\n",
       "      <th>4</th>\n",
       "      <td>0d32c6ef-508e-4f5d-bc64-341a0a9f498d</td>\n",
       "      <td>2025-01-03 22:29:00</td>\n",
       "      <td>32229.73</td>\n",
       "      <td>SEK</td>\n",
       "      <td>SE8902SZWO66860675966705</td>\n",
       "      <td>SE8902SUUS97732018069804</td>\n",
       "      <td>Sweden</td>\n",
       "      <td>Skellefteå</td>\n",
       "      <td>Sweden</td>\n",
       "      <td>Falun</td>\n",
       "      <td>outgoing</td>\n",
       "      <td>Tax refund</td>\n",
       "    </tr>\n",
       "  </tbody>\n",
       "</table>\n",
       "</div>"
      ],
      "text/plain": [
       "                         transaction_id            timestamp     amount  \\\n",
       "0  f2f3b0fc-b7d7-4d85-b682-cbf07ef77c1a  2025-03-06 12:04:00    7746.03   \n",
       "1  feccbd1e-7752-4452-a44a-901510252561  2025-03-31 01:37:00   45193.04   \n",
       "2  bc6a480c-e2e1-434d-830c-1cda3f913038  2025-04-29 22:58:00   33029.71   \n",
       "3  b832aa2c-77f3-4c4f-9697-9776b8d74abb  2025-02-27 14:52:00  35994 .61   \n",
       "4  0d32c6ef-508e-4f5d-bc64-341a0a9f498d  2025-01-03 22:29:00   32229.73   \n",
       "\n",
       "  currency            sender_account          receiver_account sender_country  \\\n",
       "0      SEK  SE8902EWFT80524424320740  SE8902ZUIH32054423564254         Sweden   \n",
       "1      SEK  SE8902GTSI58472323675409  SE8902ERNA19462716907689         Sweden   \n",
       "2      SEK  SE8902SEZT63377163386089  SE8902LOLQ30361773270969         Sweden   \n",
       "3      SEK  SE8902MGEE43594824630478  SE8902XIVG18316797897983         Sweden   \n",
       "4      SEK  SE8902SZWO66860675966705  SE8902SUUS97732018069804         Sweden   \n",
       "\n",
       "  sender_municipality receiver_country receiver_municipality transaction_type  \\\n",
       "0          Karlskrona           Sweden            Eskilstuna         outgoing   \n",
       "1               Piteå           Sweden            Norrköping         outgoing   \n",
       "2           Östersund           Sweden             Karlskoga         incoming   \n",
       "3            Karlstad           Sweden           Helsingborg         incoming   \n",
       "4          Skellefteå           Sweden                 Falun         outgoing   \n",
       "\n",
       "             notes  \n",
       "0  Online purchase  \n",
       "1       Tax refund  \n",
       "2       Tax refund  \n",
       "3              NaN  \n",
       "4       Tax refund  "
      ]
     },
     "metadata": {},
     "output_type": "display_data"
    },
    {
     "name": "stdout",
     "output_type": "stream",
     "text": [
      "transaction_id           object\n",
      "timestamp                object\n",
      "amount                   object\n",
      "currency                 object\n",
      "sender_account           object\n",
      "receiver_account         object\n",
      "sender_country           object\n",
      "sender_municipality      object\n",
      "receiver_country         object\n",
      "receiver_municipality    object\n",
      "transaction_type         object\n",
      "notes                    object\n",
      "dtype: object\n",
      "Index(['transaction_id', 'timestamp', 'amount', 'currency', 'sender_account',\n",
      "       'receiver_account', 'sender_country', 'sender_municipality',\n",
      "       'receiver_country', 'receiver_municipality', 'transaction_type',\n",
      "       'notes'],\n",
      "      dtype='object')\n"
     ]
    }
   ],
   "source": [
    "import pandas as pd\n",
    "\n",
    "file = \"../data/transactions_original.csv\"\n",
    "\n",
    "df_transactions = pd.read_csv(file)\n",
    "display(df_transactions.head())\n",
    "print(df_transactions.dtypes)\n",
    "\n",
    "print(df_transactions.columns)"
   ]
  },
  {
   "cell_type": "markdown",
   "id": "c3762729",
   "metadata": {},
   "source": [
    "### [\"amount\"] - column\n",
    "There are a few errors in the amount-column, such as (leading, trailing and inside) blank space"
   ]
  },
  {
   "cell_type": "code",
   "execution_count": null,
   "id": "c577f7b5",
   "metadata": {},
   "outputs": [],
   "source": [
    "# remove whitespace\n",
    "# conversion from object to float not possible with blank spaces\n",
    "df_transactions[\"amount\"] = df_transactions[\"amount\"].astype(str)\n",
    "df_transactions[\"amount\"] = df_transactions[\"amount\"].str.replace(\" \", \"\")\n",
    "df_transactions[\"amount\"] = df_transactions[\"amount\"].astype(float)\n",
    "\n",
    "# print(df_transactions.dtypes) # amount is now float64\n",
    "# display(df_transactions)"
   ]
  },
  {
   "cell_type": "code",
   "execution_count": null,
   "id": "d59d9df2",
   "metadata": {},
   "outputs": [],
   "source": []
  }
 ],
 "metadata": {
  "kernelspec": {
   "display_name": ".venv",
   "language": "python",
   "name": "python3"
  },
  "language_info": {
   "codemirror_mode": {
    "name": "ipython",
    "version": 3
   },
   "file_extension": ".py",
   "mimetype": "text/x-python",
   "name": "python",
   "nbconvert_exporter": "python",
   "pygments_lexer": "ipython3",
   "version": "3.12.3"
  }
 },
 "nbformat": 4,
 "nbformat_minor": 5
}
